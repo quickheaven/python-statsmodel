{
 "cells": [
  {
   "cell_type": "markdown",
   "id": "7dddb8de-6b45-4730-8dd3-66f94033984f",
   "metadata": {},
   "source": [
    "# Implementing Linear Regression with Categorical variable Using Sklearn\n",
    "\n",
    "https://medium.com/analytics-vidhya/implementing-linear-regression-using-sklearn-76264a3c073c"
   ]
  },
  {
   "cell_type": "markdown",
   "id": "a1990816-9fab-4729-ad27-b9101f1cd4ea",
   "metadata": {},
   "source": [
    "## Imports"
   ]
  },
  {
   "cell_type": "code",
   "execution_count": 52,
   "id": "ad6be8f5-d607-40db-b081-3cf283a824be",
   "metadata": {},
   "outputs": [],
   "source": [
    "import warnings\n",
    "warnings.filterwarnings('ignore')\n",
    "import pandas as pd\n",
    "import numpy as np\n",
    "import seaborn as sns\n",
    "import matplotlib.pyplot as plt"
   ]
  },
  {
   "cell_type": "markdown",
   "id": "d93023d0-b40e-44d4-abc9-ad45cc1a5017",
   "metadata": {},
   "source": [
    "## Datasets"
   ]
  },
  {
   "cell_type": "code",
   "execution_count": 53,
   "id": "4435635a-4747-4e6b-ac4a-caeb2b5da3df",
   "metadata": {},
   "outputs": [
    {
     "data": {
      "text/html": [
       "<div>\n",
       "<style scoped>\n",
       "    .dataframe tbody tr th:only-of-type {\n",
       "        vertical-align: middle;\n",
       "    }\n",
       "\n",
       "    .dataframe tbody tr th {\n",
       "        vertical-align: top;\n",
       "    }\n",
       "\n",
       "    .dataframe thead th {\n",
       "        text-align: right;\n",
       "    }\n",
       "</style>\n",
       "<table border=\"1\" class=\"dataframe\">\n",
       "  <thead>\n",
       "    <tr style=\"text-align: right;\">\n",
       "      <th></th>\n",
       "      <th>Age</th>\n",
       "      <th>YearsExperience</th>\n",
       "      <th>Salary</th>\n",
       "      <th>Gender</th>\n",
       "      <th>Classification</th>\n",
       "      <th>Job</th>\n",
       "    </tr>\n",
       "  </thead>\n",
       "  <tbody>\n",
       "    <tr>\n",
       "      <th>0</th>\n",
       "      <td>22</td>\n",
       "      <td>1.1</td>\n",
       "      <td>39343</td>\n",
       "      <td>Female</td>\n",
       "      <td>Low</td>\n",
       "      <td>Assistant</td>\n",
       "    </tr>\n",
       "    <tr>\n",
       "      <th>1</th>\n",
       "      <td>22</td>\n",
       "      <td>1.3</td>\n",
       "      <td>46205</td>\n",
       "      <td>Male</td>\n",
       "      <td>TOP</td>\n",
       "      <td>Professor</td>\n",
       "    </tr>\n",
       "    <tr>\n",
       "      <th>2</th>\n",
       "      <td>23</td>\n",
       "      <td>1.5</td>\n",
       "      <td>37731</td>\n",
       "      <td>Female</td>\n",
       "      <td>TOP</td>\n",
       "      <td>Administrative</td>\n",
       "    </tr>\n",
       "    <tr>\n",
       "      <th>3</th>\n",
       "      <td>24</td>\n",
       "      <td>2.0</td>\n",
       "      <td>43525</td>\n",
       "      <td>Female</td>\n",
       "      <td>Medium</td>\n",
       "      <td>Assistant</td>\n",
       "    </tr>\n",
       "    <tr>\n",
       "      <th>4</th>\n",
       "      <td>25</td>\n",
       "      <td>2.2</td>\n",
       "      <td>39891</td>\n",
       "      <td>Male</td>\n",
       "      <td>Medium</td>\n",
       "      <td>Professor</td>\n",
       "    </tr>\n",
       "  </tbody>\n",
       "</table>\n",
       "</div>"
      ],
      "text/plain": [
       "   Age  YearsExperience  Salary  Gender Classification             Job\n",
       "0   22              1.1   39343  Female            Low       Assistant\n",
       "1   22              1.3   46205    Male            TOP       Professor\n",
       "2   23              1.5   37731  Female            TOP  Administrative\n",
       "3   24              2.0   43525  Female         Medium       Assistant\n",
       "4   25              2.2   39891    Male         Medium       Professor"
      ]
     },
     "execution_count": 53,
     "metadata": {},
     "output_type": "execute_result"
    }
   ],
   "source": [
    "df=df = pd.read_excel('./Data/Multiple_variable.xlsx',sheet_name='Sheet2')\n",
    "df.head()"
   ]
  },
  {
   "cell_type": "markdown",
   "id": "fca7c1cc-eb5b-4598-8db4-9105ad4190d1",
   "metadata": {},
   "source": [
    "## Data Pre-Processing"
   ]
  },
  {
   "cell_type": "code",
   "execution_count": 54,
   "id": "78fb1698-b636-4310-88b6-6026a2606cbf",
   "metadata": {},
   "outputs": [
    {
     "data": {
      "text/html": [
       "<div>\n",
       "<style scoped>\n",
       "    .dataframe tbody tr th:only-of-type {\n",
       "        vertical-align: middle;\n",
       "    }\n",
       "\n",
       "    .dataframe tbody tr th {\n",
       "        vertical-align: top;\n",
       "    }\n",
       "\n",
       "    .dataframe thead th {\n",
       "        text-align: right;\n",
       "    }\n",
       "</style>\n",
       "<table border=\"1\" class=\"dataframe\">\n",
       "  <thead>\n",
       "    <tr style=\"text-align: right;\">\n",
       "      <th></th>\n",
       "      <th>Age</th>\n",
       "      <th>YearsExperience</th>\n",
       "      <th>Salary</th>\n",
       "    </tr>\n",
       "  </thead>\n",
       "  <tbody>\n",
       "    <tr>\n",
       "      <th>count</th>\n",
       "      <td>36.000000</td>\n",
       "      <td>36.000000</td>\n",
       "      <td>36.000000</td>\n",
       "    </tr>\n",
       "    <tr>\n",
       "      <th>mean</th>\n",
       "      <td>34.472222</td>\n",
       "      <td>6.008333</td>\n",
       "      <td>82228.277778</td>\n",
       "    </tr>\n",
       "    <tr>\n",
       "      <th>std</th>\n",
       "      <td>6.942565</td>\n",
       "      <td>3.031489</td>\n",
       "      <td>28784.838078</td>\n",
       "    </tr>\n",
       "    <tr>\n",
       "      <th>min</th>\n",
       "      <td>22.000000</td>\n",
       "      <td>1.100000</td>\n",
       "      <td>37731.000000</td>\n",
       "    </tr>\n",
       "    <tr>\n",
       "      <th>25%</th>\n",
       "      <td>29.000000</td>\n",
       "      <td>3.575000</td>\n",
       "      <td>57050.000000</td>\n",
       "    </tr>\n",
       "    <tr>\n",
       "      <th>50%</th>\n",
       "      <td>37.000000</td>\n",
       "      <td>5.600000</td>\n",
       "      <td>82225.500000</td>\n",
       "    </tr>\n",
       "    <tr>\n",
       "      <th>75%</th>\n",
       "      <td>40.250000</td>\n",
       "      <td>9.000000</td>\n",
       "      <td>110232.000000</td>\n",
       "    </tr>\n",
       "    <tr>\n",
       "      <th>max</th>\n",
       "      <td>49.000000</td>\n",
       "      <td>10.500000</td>\n",
       "      <td>122391.000000</td>\n",
       "    </tr>\n",
       "  </tbody>\n",
       "</table>\n",
       "</div>"
      ],
      "text/plain": [
       "             Age  YearsExperience         Salary\n",
       "count  36.000000        36.000000      36.000000\n",
       "mean   34.472222         6.008333   82228.277778\n",
       "std     6.942565         3.031489   28784.838078\n",
       "min    22.000000         1.100000   37731.000000\n",
       "25%    29.000000         3.575000   57050.000000\n",
       "50%    37.000000         5.600000   82225.500000\n",
       "75%    40.250000         9.000000  110232.000000\n",
       "max    49.000000        10.500000  122391.000000"
      ]
     },
     "execution_count": 54,
     "metadata": {},
     "output_type": "execute_result"
    }
   ],
   "source": [
    "df.shape\n",
    "df.describe()"
   ]
  },
  {
   "cell_type": "code",
   "execution_count": 55,
   "id": "de4076c4-a2ff-4528-8d40-08138a70dd6f",
   "metadata": {},
   "outputs": [
    {
     "data": {
      "text/plain": [
       "Age                  int64\n",
       "YearsExperience    float64\n",
       "Salary               int64\n",
       "Gender              object\n",
       "Classification      object\n",
       "Job                 object\n",
       "dtype: object"
      ]
     },
     "execution_count": 55,
     "metadata": {},
     "output_type": "execute_result"
    }
   ],
   "source": [
    "df.dtypes"
   ]
  },
  {
   "cell_type": "markdown",
   "id": "cb6a8a36-0962-4645-a57a-89cb103ee0a5",
   "metadata": {},
   "source": [
    "## Explanatory Data Analysis"
   ]
  },
  {
   "cell_type": "code",
   "execution_count": 56,
   "id": "6b8b2132-3195-46b9-8699-54be5ac76b94",
   "metadata": {},
   "outputs": [
    {
     "data": {
      "text/plain": [
       "<seaborn.axisgrid.PairGrid at 0x2b8f3b597c0>"
      ]
     },
     "execution_count": 56,
     "metadata": {},
     "output_type": "execute_result"
    },
    {
     "data": {
      "image/png": "[encoded data removed]",
      "text/plain": [
       "<Figure size 612.125x540 with 12 Axes>"
      ]
     },
     "metadata": {
      "needs_background": "light"
     },
     "output_type": "display_data"
    }
   ],
   "source": [
    "sns.pairplot(df, hue='Gender')"
   ]
  },
  {
   "cell_type": "markdown",
   "id": "f4d578cc-bfba-4a65-9b01-65e073a1a6ed",
   "metadata": {},
   "source": [
    "Years of Experience is directly proportional to Salary and even age."
   ]
  },
  {
   "cell_type": "code",
   "execution_count": 57,
   "id": "43f7385b-ea02-40af-ac8a-2a8a95879303",
   "metadata": {},
   "outputs": [
    {
     "data": {
      "text/plain": [
       "<seaborn.axisgrid.PairGrid at 0x2b8f2b5d2e0>"
      ]
     },
     "execution_count": 57,
     "metadata": {},
     "output_type": "execute_result"
    },
    {
     "data": {
      "image/png": "[encoded data removed]",
      "text/plain": [
       "<Figure size 432.125x180 with 2 Axes>"
      ]
     },
     "metadata": {
      "needs_background": "light"
     },
     "output_type": "display_data"
    }
   ],
   "source": [
    "sns.pairplot(df,x_vars=['Age','YearsExperience'],y_vars=['Salary'],hue='Gender')"
   ]
  },
  {
   "cell_type": "markdown",
   "id": "8a585b63-98d7-46c4-9dd0-07866a8b85d0",
   "metadata": {},
   "source": [
    "Age and Years of Experience both are correlated with Salary"
   ]
  },
  {
   "cell_type": "code",
   "execution_count": 58,
   "id": "d8e22b0a-7aa3-41e2-9ef2-30175d443541",
   "metadata": {},
   "outputs": [
    {
     "data": {
      "text/html": [
       "<div>\n",
       "<style scoped>\n",
       "    .dataframe tbody tr th:only-of-type {\n",
       "        vertical-align: middle;\n",
       "    }\n",
       "\n",
       "    .dataframe tbody tr th {\n",
       "        vertical-align: top;\n",
       "    }\n",
       "\n",
       "    .dataframe thead th {\n",
       "        text-align: right;\n",
       "    }\n",
       "</style>\n",
       "<table border=\"1\" class=\"dataframe\">\n",
       "  <thead>\n",
       "    <tr style=\"text-align: right;\">\n",
       "      <th></th>\n",
       "      <th>Age</th>\n",
       "      <th>YearsExperience</th>\n",
       "      <th>Salary</th>\n",
       "    </tr>\n",
       "  </thead>\n",
       "  <tbody>\n",
       "    <tr>\n",
       "      <th>Age</th>\n",
       "      <td>1.000000</td>\n",
       "      <td>0.858866</td>\n",
       "      <td>0.825977</td>\n",
       "    </tr>\n",
       "    <tr>\n",
       "      <th>YearsExperience</th>\n",
       "      <td>0.858866</td>\n",
       "      <td>1.000000</td>\n",
       "      <td>0.982536</td>\n",
       "    </tr>\n",
       "    <tr>\n",
       "      <th>Salary</th>\n",
       "      <td>0.825977</td>\n",
       "      <td>0.982536</td>\n",
       "      <td>1.000000</td>\n",
       "    </tr>\n",
       "  </tbody>\n",
       "</table>\n",
       "</div>"
      ],
      "text/plain": [
       "                      Age  YearsExperience    Salary\n",
       "Age              1.000000         0.858866  0.825977\n",
       "YearsExperience  0.858866         1.000000  0.982536\n",
       "Salary           0.825977         0.982536  1.000000"
      ]
     },
     "execution_count": 58,
     "metadata": {},
     "output_type": "execute_result"
    }
   ],
   "source": [
    "df.corr()"
   ]
  },
  {
   "cell_type": "code",
   "execution_count": 59,
   "id": "f4955f09-72dc-4a38-adef-5dac84205cd8",
   "metadata": {},
   "outputs": [
    {
     "data": {
      "text/plain": [
       "<AxesSubplot:>"
      ]
     },
     "execution_count": 59,
     "metadata": {},
     "output_type": "execute_result"
    },
    {
     "data": {
      "image/png": "[encoded data removed]",
      "text/plain": [
       "<Figure size 432x288 with 2 Axes>"
      ]
     },
     "metadata": {
      "needs_background": "light"
     },
     "output_type": "display_data"
    }
   ],
   "source": [
    "sns.heatmap(df.corr(),annot=True,lw=1)"
   ]
  },
  {
   "cell_type": "code",
   "execution_count": 60,
   "id": "f32355eb-01d4-4019-8bbb-71e1110ca81b",
   "metadata": {},
   "outputs": [
    {
     "data": {
      "text/plain": [
       "<AxesSubplot:xlabel='Gender', ylabel='Age'>"
      ]
     },
     "execution_count": 60,
     "metadata": {},
     "output_type": "execute_result"
    },
    {
     "data": {
      "image/png": "[encoded data removed]",
      "text/plain": [
       "<Figure size 432x288 with 1 Axes>"
      ]
     },
     "metadata": {
      "needs_background": "light"
     },
     "output_type": "display_data"
    }
   ],
   "source": [
    "sns.boxplot(y='Age',x='Gender',data=df)"
   ]
  },
  {
   "cell_type": "code",
   "execution_count": 61,
   "id": "6b3a49df-9315-4690-b9c4-10189aff940a",
   "metadata": {},
   "outputs": [
    {
     "data": {
      "text/plain": [
       "<AxesSubplot:xlabel='Classification', ylabel='Salary'>"
      ]
     },
     "execution_count": 61,
     "metadata": {},
     "output_type": "execute_result"
    },
    {
     "data": {
      "image/png": "[encoded data removed]",
      "text/plain": [
       "<Figure size 432x288 with 1 Axes>"
      ]
     },
     "metadata": {
      "needs_background": "light"
     },
     "output_type": "display_data"
    }
   ],
   "source": [
    "sns.boxplot(y='Salary',x='Classification',data=df)"
   ]
  },
  {
   "cell_type": "markdown",
   "id": "af03ae9c-6f85-4444-9d60-6c606a4124bb",
   "metadata": {},
   "source": [
    "## Dummy Variable\n",
    "Regression results are easiest to interpret when dummy variables are limited to two specific values, 1 or 0. Typically, 1 represents the presence of a qualitative attribute, and 0 represents the absence."
   ]
  },
  {
   "cell_type": "code",
   "execution_count": 62,
   "id": "360bf1df-a5f2-4bc9-a5b5-e3979481bca9",
   "metadata": {},
   "outputs": [],
   "source": [
    "X = df[['Age', 'YearsExperience', 'Gender', 'Classification', 'Job']]"
   ]
  },
  {
   "cell_type": "code",
   "execution_count": 63,
   "id": "152fb3ec-c531-4a97-ab8e-327f2096688b",
   "metadata": {},
   "outputs": [
    {
     "data": {
      "text/html": [
       "<div>\n",
       "<style scoped>\n",
       "    .dataframe tbody tr th:only-of-type {\n",
       "        vertical-align: middle;\n",
       "    }\n",
       "\n",
       "    .dataframe tbody tr th {\n",
       "        vertical-align: top;\n",
       "    }\n",
       "\n",
       "    .dataframe thead th {\n",
       "        text-align: right;\n",
       "    }\n",
       "</style>\n",
       "<table border=\"1\" class=\"dataframe\">\n",
       "  <thead>\n",
       "    <tr style=\"text-align: right;\">\n",
       "      <th></th>\n",
       "      <th>Age</th>\n",
       "      <th>YearsExperience</th>\n",
       "      <th>Gender_Male</th>\n",
       "      <th>Classification_Medium</th>\n",
       "      <th>Classification_TOP</th>\n",
       "      <th>Job_Assistant</th>\n",
       "      <th>Job_Manager</th>\n",
       "      <th>Job_Professor</th>\n",
       "      <th>Job_Senior Manager</th>\n",
       "    </tr>\n",
       "  </thead>\n",
       "  <tbody>\n",
       "    <tr>\n",
       "      <th>0</th>\n",
       "      <td>22</td>\n",
       "      <td>1.1</td>\n",
       "      <td>0</td>\n",
       "      <td>0</td>\n",
       "      <td>0</td>\n",
       "      <td>1</td>\n",
       "      <td>0</td>\n",
       "      <td>0</td>\n",
       "      <td>0</td>\n",
       "    </tr>\n",
       "    <tr>\n",
       "      <th>1</th>\n",
       "      <td>22</td>\n",
       "      <td>1.3</td>\n",
       "      <td>1</td>\n",
       "      <td>0</td>\n",
       "      <td>1</td>\n",
       "      <td>0</td>\n",
       "      <td>0</td>\n",
       "      <td>1</td>\n",
       "      <td>0</td>\n",
       "    </tr>\n",
       "    <tr>\n",
       "      <th>2</th>\n",
       "      <td>23</td>\n",
       "      <td>1.5</td>\n",
       "      <td>0</td>\n",
       "      <td>0</td>\n",
       "      <td>1</td>\n",
       "      <td>0</td>\n",
       "      <td>0</td>\n",
       "      <td>0</td>\n",
       "      <td>0</td>\n",
       "    </tr>\n",
       "    <tr>\n",
       "      <th>3</th>\n",
       "      <td>24</td>\n",
       "      <td>2.0</td>\n",
       "      <td>0</td>\n",
       "      <td>1</td>\n",
       "      <td>0</td>\n",
       "      <td>1</td>\n",
       "      <td>0</td>\n",
       "      <td>0</td>\n",
       "      <td>0</td>\n",
       "    </tr>\n",
       "    <tr>\n",
       "      <th>4</th>\n",
       "      <td>25</td>\n",
       "      <td>2.2</td>\n",
       "      <td>1</td>\n",
       "      <td>1</td>\n",
       "      <td>0</td>\n",
       "      <td>0</td>\n",
       "      <td>0</td>\n",
       "      <td>1</td>\n",
       "      <td>0</td>\n",
       "    </tr>\n",
       "  </tbody>\n",
       "</table>\n",
       "</div>"
      ],
      "text/plain": [
       "   Age  YearsExperience  Gender_Male  Classification_Medium  \\\n",
       "0   22              1.1            0                      0   \n",
       "1   22              1.3            1                      0   \n",
       "2   23              1.5            0                      0   \n",
       "3   24              2.0            0                      1   \n",
       "4   25              2.2            1                      1   \n",
       "\n",
       "   Classification_TOP  Job_Assistant  Job_Manager  Job_Professor  \\\n",
       "0                   0              1            0              0   \n",
       "1                   1              0            0              1   \n",
       "2                   1              0            0              0   \n",
       "3                   0              1            0              0   \n",
       "4                   0              0            0              1   \n",
       "\n",
       "   Job_Senior Manager  \n",
       "0                   0  \n",
       "1                   0  \n",
       "2                   0  \n",
       "3                   0  \n",
       "4                   0  "
      ]
     },
     "execution_count": 63,
     "metadata": {},
     "output_type": "execute_result"
    }
   ],
   "source": [
    "X = pd.get_dummies(data=X, drop_first=True)\n",
    "X.head()"
   ]
  },
  {
   "cell_type": "code",
   "execution_count": 64,
   "id": "b96d1124-b7eb-48cd-a508-0a2ecb300565",
   "metadata": {},
   "outputs": [],
   "source": [
    "Y = df['Salary']"
   ]
  },
  {
   "cell_type": "markdown",
   "id": "4970dda4-f556-4482-82a6-24922fa47579",
   "metadata": {},
   "source": [
    "## Create a train and test dataset"
   ]
  },
  {
   "cell_type": "code",
   "execution_count": 65,
   "id": "9beb7b5a-9d05-4166-afa8-a9d282192012",
   "metadata": {},
   "outputs": [
    {
     "name": "stdout",
     "output_type": "stream",
     "text": [
      "(21, 9)\n",
      "(15, 9)\n",
      "(21,)\n",
      "(15,)\n"
     ]
    }
   ],
   "source": [
    "from sklearn.model_selection import train_test_split\n",
    "X_train, X_test, y_train, y_test = train_test_split(X, Y, test_size=0.4, random_state=101)\n",
    "print(X_train.shape)\n",
    "print(X_test.shape)\n",
    "print(y_train.shape)\n",
    "print(y_test.shape)"
   ]
  },
  {
   "cell_type": "markdown",
   "id": "7c0b060e-dc1b-44a5-98a2-0523373bdbd7",
   "metadata": {},
   "source": [
    "## SkLearn"
   ]
  },
  {
   "cell_type": "code",
   "execution_count": 66,
   "id": "517fbb26-3ec8-4bf5-be39-890936de52e5",
   "metadata": {},
   "outputs": [
    {
     "data": {
      "text/plain": [
       "LinearRegression()"
      ]
     },
     "execution_count": 66,
     "metadata": {},
     "output_type": "execute_result"
    }
   ],
   "source": [
    "from sklearn.linear_model import LinearRegression\n",
    "model = LinearRegression()\n",
    "model.fit(X_train,y_train)"
   ]
  },
  {
   "cell_type": "code",
   "execution_count": 67,
   "id": "584d7b5f-bf17-4bca-a108-7bac407bd609",
   "metadata": {},
   "outputs": [
    {
     "name": "stdout",
     "output_type": "stream",
     "text": [
      "40767.075290708104\n"
     ]
    }
   ],
   "source": [
    "# print the intercept\n",
    "print(model.intercept_)"
   ]
  },
  {
   "cell_type": "markdown",
   "id": "5ea699bb-667c-436e-9256-3ee83242530a",
   "metadata": {},
   "source": [
    "The sign of each coefficient indicates the direction of the relationship between a predictor variable and the response variable.\n",
    "\n",
    "* A positive sign indicates that as the predictor variable increases, the Target variable also increases.\n",
    "* A negative sign indicates that as the predictor variable increases, the Target variable decreases"
   ]
  },
  {
   "cell_type": "code",
   "execution_count": 68,
   "id": "fd44923e-6d9a-420a-9ba0-c0a202d83107",
   "metadata": {},
   "outputs": [
    {
     "data": {
      "text/html": [
       "<div>\n",
       "<style scoped>\n",
       "    .dataframe tbody tr th:only-of-type {\n",
       "        vertical-align: middle;\n",
       "    }\n",
       "\n",
       "    .dataframe tbody tr th {\n",
       "        vertical-align: top;\n",
       "    }\n",
       "\n",
       "    .dataframe thead th {\n",
       "        text-align: right;\n",
       "    }\n",
       "</style>\n",
       "<table border=\"1\" class=\"dataframe\">\n",
       "  <thead>\n",
       "    <tr style=\"text-align: right;\">\n",
       "      <th></th>\n",
       "      <th>Coefficient</th>\n",
       "    </tr>\n",
       "  </thead>\n",
       "  <tbody>\n",
       "    <tr>\n",
       "      <th>Age</th>\n",
       "      <td>-548.323776</td>\n",
       "    </tr>\n",
       "    <tr>\n",
       "      <th>YearsExperience</th>\n",
       "      <td>10743.731522</td>\n",
       "    </tr>\n",
       "    <tr>\n",
       "      <th>Gender_Male</th>\n",
       "      <td>-655.537127</td>\n",
       "    </tr>\n",
       "    <tr>\n",
       "      <th>Classification_Medium</th>\n",
       "      <td>-6061.914786</td>\n",
       "    </tr>\n",
       "    <tr>\n",
       "      <th>Classification_TOP</th>\n",
       "      <td>-1234.672994</td>\n",
       "    </tr>\n",
       "    <tr>\n",
       "      <th>Job_Assistant</th>\n",
       "      <td>-1114.042048</td>\n",
       "    </tr>\n",
       "    <tr>\n",
       "      <th>Job_Manager</th>\n",
       "      <td>2291.025846</td>\n",
       "    </tr>\n",
       "    <tr>\n",
       "      <th>Job_Professor</th>\n",
       "      <td>964.080429</td>\n",
       "    </tr>\n",
       "    <tr>\n",
       "      <th>Job_Senior Manager</th>\n",
       "      <td>-2141.064227</td>\n",
       "    </tr>\n",
       "  </tbody>\n",
       "</table>\n",
       "</div>"
      ],
      "text/plain": [
       "                        Coefficient\n",
       "Age                     -548.323776\n",
       "YearsExperience        10743.731522\n",
       "Gender_Male             -655.537127\n",
       "Classification_Medium  -6061.914786\n",
       "Classification_TOP     -1234.672994\n",
       "Job_Assistant          -1114.042048\n",
       "Job_Manager             2291.025846\n",
       "Job_Professor            964.080429\n",
       "Job_Senior Manager     -2141.064227"
      ]
     },
     "execution_count": 68,
     "metadata": {},
     "output_type": "execute_result"
    }
   ],
   "source": [
    "coeff_parameter = pd.DataFrame(model.coef_,X.columns,columns=['Coefficient'])\n",
    "coeff_parameter"
   ]
  },
  {
   "cell_type": "code",
   "execution_count": 69,
   "id": "ee4decf4-4cfa-453c-8b76-cbfaa7b47f5d",
   "metadata": {},
   "outputs": [
    {
     "data": {
      "text/plain": [
       "array([ 80970.53158392,  54147.79230197,  84608.3284182 , 112838.31994826,\n",
       "       111603.646954  , 121986.73865586, 111208.49523541, 125909.94403861,\n",
       "       112148.27092338,  43036.55273237, 127901.81847906,  85930.91891418,\n",
       "        71270.93953831,  62820.7589416 ,  41918.81087788])"
      ]
     },
     "execution_count": 69,
     "metadata": {},
     "output_type": "execute_result"
    }
   ],
   "source": [
    "predictions = model.predict(X_test)\n",
    "predictions"
   ]
  },
  {
   "cell_type": "code",
   "execution_count": 70,
   "id": "b543b40b-31dd-42e7-bed9-f4918ba62cad",
   "metadata": {},
   "outputs": [
    {
     "data": {
      "text/plain": [
       "<AxesSubplot:xlabel='Salary'>"
      ]
     },
     "execution_count": 70,
     "metadata": {},
     "output_type": "execute_result"
    },
    {
     "data": {
      "image/png": "[encoded data removed]",
      "text/plain": [
       "<Figure size 432x288 with 1 Axes>"
      ]
     },
     "metadata": {
      "needs_background": "light"
     },
     "output_type": "display_data"
    }
   ],
   "source": [
    "sns.regplot(y_test,predictions)"
   ]
  },
  {
   "cell_type": "markdown",
   "id": "b8851655-d7c8-4eca-94e1-181c7984bac3",
   "metadata": {},
   "source": [
    "## StatsModels"
   ]
  },
  {
   "cell_type": "code",
   "execution_count": 71,
   "id": "b08c30ce-eaf4-436f-a9a4-b9d41eaebd0d",
   "metadata": {},
   "outputs": [
    {
     "name": "stdout",
     "output_type": "stream",
     "text": [
      "                            OLS Regression Results                            \n",
      "==============================================================================\n",
      "Dep. Variable:                 Salary   R-squared:                       0.971\n",
      "Model:                            OLS   Adj. R-squared:                  0.952\n",
      "Method:                 Least Squares   F-statistic:                     51.09\n",
      "Date:                Sun, 09 Jul 2023   Prob (F-statistic):           4.20e-08\n",
      "Time:                        22:21:20   Log-Likelihood:                -207.81\n",
      "No. Observations:                  21   AIC:                             433.6\n",
      "Df Residuals:                      12   BIC:                             443.0\n",
      "Df Model:                           8                                         \n",
      "Covariance Type:            nonrobust                                         \n",
      "=========================================================================================\n",
      "                            coef    std err          t      P>|t|      [0.025      0.975]\n",
      "-----------------------------------------------------------------------------------------\n",
      "const                  3.261e+04   9431.499      3.458      0.005    1.21e+04    5.32e+04\n",
      "Age                    -548.3238    427.836     -1.282      0.224   -1480.499     383.852\n",
      "YearsExperience        1.074e+04   1744.592      6.158      0.000    6942.592    1.45e+04\n",
      "Gender_Male            -655.5371   3091.666     -0.212      0.836   -7391.698    6080.624\n",
      "Classification_Medium -6061.9148   4374.305     -1.386      0.191   -1.56e+04    3468.878\n",
      "Classification_TOP    -1234.6730   4574.620     -0.270      0.792   -1.12e+04    8732.568\n",
      "Job_Assistant          7039.3730   3997.588      1.761      0.104   -1670.623    1.57e+04\n",
      "Job_Manager            1.044e+04   5193.314      2.011      0.067    -870.818    2.18e+04\n",
      "Job_Professor          9117.4955   4842.954      1.883      0.084   -1434.395    1.97e+04\n",
      "Job_Senior Manager     6012.3508   6454.697      0.931      0.370   -8051.225    2.01e+04\n",
      "==============================================================================\n",
      "Omnibus:                        9.775   Durbin-Watson:                   2.131\n",
      "Prob(Omnibus):                  0.008   Jarque-Bera (JB):                2.092\n",
      "Skew:                           0.115   Prob(JB):                        0.351\n",
      "Kurtosis:                       1.471   Cond. No.                     4.70e+17\n",
      "==============================================================================\n",
      "\n",
      "Notes:\n",
      "[1] Standard Errors assume that the covariance matrix of the errors is correctly specified.\n",
      "[2] The smallest eigenvalue is 1.18e-31. This might indicate that there are\n",
      "strong multicollinearity problems or that the design matrix is singular.\n"
     ]
    }
   ],
   "source": [
    "import statsmodels.api as sm\n",
    "X_train_Sm= sm.add_constant(X_train)\n",
    "X_train_Sm= sm.add_constant(X_train)\n",
    "ls=sm.OLS(y_train,X_train_Sm).fit()\n",
    "print(ls.summary())"
   ]
  },
  {
   "cell_type": "markdown",
   "id": "429a095c-8a66-483b-986f-12a2dcba9104",
   "metadata": {},
   "source": [
    "### What Are the Adjusted R-squared?\n",
    "We Use adjusted R-squared to compare the goodness-of-fit for regression models that contain different numbers of independent variables."
   ]
  },
  {
   "cell_type": "code",
   "execution_count": null,
   "id": "6a457aff-04e4-49e6-b96e-80371c58f77c",
   "metadata": {},
   "outputs": [],
   "source": []
  }
 ],
 "metadata": {
  "kernelspec": {
   "display_name": "Python 3",
   "language": "python",
   "name": "python3"
  },
  "language_info": {
   "codemirror_mode": {
    "name": "ipython",
    "version": 3
   },
   "file_extension": ".py",
   "mimetype": "text/x-python",
   "name": "python",
   "nbconvert_exporter": "python",
   "pygments_lexer": "ipython3",
   "version": "3.8.8"
  }
 },
 "nbformat": 4,
 "nbformat_minor": 5
}
