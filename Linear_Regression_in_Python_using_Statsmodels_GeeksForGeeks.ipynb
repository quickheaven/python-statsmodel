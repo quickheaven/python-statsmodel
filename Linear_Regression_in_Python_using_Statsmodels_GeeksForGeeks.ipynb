{
 "cells": [
  {
   "cell_type": "markdown",
   "id": "74fd5938-f7aa-4a18-9f81-cd37e1c85be8",
   "metadata": {},
   "source": [
    "# Linear Regression in Python using Statsmodels\n",
    "https://www.geeksforgeeks.org/linear-regression-in-python-using-statsmodels/"
   ]
  },
  {
   "cell_type": "markdown",
   "id": "7d88c404-2a17-4130-baf2-ec9d63120ece",
   "metadata": {},
   "source": [
    "## Import packages."
   ]
  },
  {
   "cell_type": "code",
   "execution_count": 20,
   "id": "d90342a5-c66f-4003-b6a8-9f8fb3ab9ff9",
   "metadata": {},
   "outputs": [],
   "source": [
    "import numpy as np\n",
    "import pandas as pd\n",
    "import statsmodels.formula.api as smf\n",
    "import matplotlib.pyplot as plt\n",
    "import seaborn as sns"
   ]
  },
  {
   "cell_type": "markdown",
   "id": "8509c6a4-fc22-4aeb-8704-0ce016f192d5",
   "metadata": {},
   "source": [
    "## Loading data."
   ]
  },
  {
   "cell_type": "code",
   "execution_count": 21,
   "id": "3aa4f865-cbc4-496c-b750-f566fa6f4b33",
   "metadata": {},
   "outputs": [
    {
     "data": {
      "text/html": [
       "<div>\n",
       "<style scoped>\n",
       "    .dataframe tbody tr th:only-of-type {\n",
       "        vertical-align: middle;\n",
       "    }\n",
       "\n",
       "    .dataframe tbody tr th {\n",
       "        vertical-align: top;\n",
       "    }\n",
       "\n",
       "    .dataframe thead th {\n",
       "        text-align: right;\n",
       "    }\n",
       "</style>\n",
       "<table border=\"1\" class=\"dataframe\">\n",
       "  <thead>\n",
       "    <tr style=\"text-align: right;\">\n",
       "      <th></th>\n",
       "      <th>Gender</th>\n",
       "      <th>Age Range</th>\n",
       "      <th>Head Size(cm^3)</th>\n",
       "      <th>Brain Weight(grams)</th>\n",
       "    </tr>\n",
       "  </thead>\n",
       "  <tbody>\n",
       "    <tr>\n",
       "      <th>0</th>\n",
       "      <td>1</td>\n",
       "      <td>1</td>\n",
       "      <td>4512</td>\n",
       "      <td>1530</td>\n",
       "    </tr>\n",
       "    <tr>\n",
       "      <th>1</th>\n",
       "      <td>1</td>\n",
       "      <td>1</td>\n",
       "      <td>3738</td>\n",
       "      <td>1297</td>\n",
       "    </tr>\n",
       "    <tr>\n",
       "      <th>2</th>\n",
       "      <td>1</td>\n",
       "      <td>1</td>\n",
       "      <td>4261</td>\n",
       "      <td>1335</td>\n",
       "    </tr>\n",
       "    <tr>\n",
       "      <th>3</th>\n",
       "      <td>1</td>\n",
       "      <td>1</td>\n",
       "      <td>3777</td>\n",
       "      <td>1282</td>\n",
       "    </tr>\n",
       "    <tr>\n",
       "      <th>4</th>\n",
       "      <td>1</td>\n",
       "      <td>1</td>\n",
       "      <td>4177</td>\n",
       "      <td>1590</td>\n",
       "    </tr>\n",
       "  </tbody>\n",
       "</table>\n",
       "</div>"
      ],
      "text/plain": [
       "   Gender  Age Range  Head Size(cm^3)  Brain Weight(grams)\n",
       "0       1          1             4512                 1530\n",
       "1       1          1             3738                 1297\n",
       "2       1          1             4261                 1335\n",
       "3       1          1             3777                 1282\n",
       "4       1          1             4177                 1590"
      ]
     },
     "execution_count": 21,
     "metadata": {},
     "output_type": "execute_result"
    }
   ],
   "source": [
    "df = pd.read_csv('./Data/headbrain.csv')\n",
    "df.head()"
   ]
  },
  {
   "cell_type": "markdown",
   "id": "28c86c5a-dda1-4391-8aa7-2cf34b866bf8",
   "metadata": {},
   "source": [
    "### Visualizing the data"
   ]
  },
  {
   "cell_type": "code",
   "execution_count": 22,
   "id": "7c4f30ec-7e44-430f-b4a1-9c8ff9f4ab6a",
   "metadata": {},
   "outputs": [
    {
     "name": "stderr",
     "output_type": "stream",
     "text": [
      "D:\\x-20a\\anaconda3\\lib\\site-packages\\seaborn\\_decorators.py:36: FutureWarning: Pass the following variables as keyword args: x, y. From version 0.12, the only valid positional argument will be `data`, and passing other arguments without an explicit keyword will result in an error or misinterpretation.\n",
      "  warnings.warn(\n"
     ]
    },
    {
     "data": {
      "image/png": "[encoded data removed]",
      "text/plain": [
       "<Figure size 432x288 with 1 Axes>"
      ]
     },
     "metadata": {
      "needs_background": "light"
     },
     "output_type": "display_data"
    }
   ],
   "source": [
    "sns.regplot('Head Size(cm^3)', 'Brain Weight(grams)', data=df)\n",
    "plt.show()"
   ]
  },
  {
   "cell_type": "markdown",
   "id": "af9d9485-3332-4d05-9f35-6205e4c03daf",
   "metadata": {},
   "source": [
    "## Setting a hypothesis"
   ]
  },
  {
   "cell_type": "markdown",
   "id": "b5dbdd27-d651-4e33-afd8-2ce365c2baa3",
   "metadata": {},
   "source": [
    "**Null hypothesis (H0):** There is no relationship between head size and brain weight.\\\n",
    "**Alternative hypothesis (Ha):** There is a relationship between head size and brain weight."
   ]
  },
  {
   "cell_type": "markdown",
   "id": "e7e7534f-20b6-43da-b338-c05d7c106391",
   "metadata": {},
   "source": [
    "## Fitting the model"
   ]
  },
  {
   "cell_type": "code",
   "execution_count": 23,
   "id": "25dd4620-63ee-4a86-8198-009bd1adca70",
   "metadata": {},
   "outputs": [],
   "source": [
    "df.rename(columns={'Head Size(cm^3)': 'Head_size',\n",
    "        'Brain Weight(grams)': 'Brain_weight'}, inplace=True)"
   ]
  },
  {
   "cell_type": "code",
   "execution_count": 24,
   "id": "3f7e488d-4e06-4be8-a8ee-b66a90e2ce6e",
   "metadata": {},
   "outputs": [],
   "source": [
    "model = smf.ols(formula='Head_size ~ Brain_weight', data=df).fit()"
   ]
  },
  {
   "cell_type": "code",
   "execution_count": 25,
   "id": "2c7529b1-676e-4b5f-9727-d4e4d0e0e568",
   "metadata": {},
   "outputs": [
    {
     "name": "stdout",
     "output_type": "stream",
     "text": [
      "                            OLS Regression Results                            \n",
      "==============================================================================\n",
      "Dep. Variable:              Head_size   R-squared:                       0.639\n",
      "Model:                            OLS   Adj. R-squared:                  0.638\n",
      "Method:                 Least Squares   F-statistic:                     416.5\n",
      "Date:                Sat, 08 Jul 2023   Prob (F-statistic):           5.96e-54\n",
      "Time:                        15:16:09   Log-Likelihood:                -1613.4\n",
      "No. Observations:                 237   AIC:                             3231.\n",
      "Df Residuals:                     235   BIC:                             3238.\n",
      "Df Model:                           1                                         \n",
      "Covariance Type:            nonrobust                                         \n",
      "================================================================================\n",
      "                   coef    std err          t      P>|t|      [0.025      0.975]\n",
      "--------------------------------------------------------------------------------\n",
      "Intercept      520.6101    153.215      3.398      0.001     218.759     822.461\n",
      "Brain_weight     2.4269      0.119     20.409      0.000       2.193       2.661\n",
      "==============================================================================\n",
      "Omnibus:                        2.687   Durbin-Watson:                   1.726\n",
      "Prob(Omnibus):                  0.261   Jarque-Bera (JB):                2.321\n",
      "Skew:                           0.207   Prob(JB):                        0.313\n",
      "Kurtosis:                       3.252   Cond. No.                     1.38e+04\n",
      "==============================================================================\n",
      "\n",
      "Notes:\n",
      "[1] Standard Errors assume that the covariance matrix of the errors is correctly specified.\n",
      "[2] The condition number is large, 1.38e+04. This might indicate that there are\n",
      "strong multicollinearity or other numerical problems.\n"
     ]
    }
   ],
   "source": [
    "print(model.summary())"
   ]
  },
  {
   "cell_type": "markdown",
   "id": "b7ecf0a6-ea8c-4f08-b7a8-2650e20ed5a4",
   "metadata": {},
   "source": [
    "## Description of some of the terms in the table:\n",
    "**R- squared value:** R-squared value ranges between 0 and 1. An R-squared of 100 percent indicates that all changes in the dependent variable are completely explained by changes in the independent variable(s). if we get 1 as an r-squared value it means there’s a perfect fit. In our example, the r-squared value is 0.638.\n",
    "\\\n",
    "**F- statistic:** The F statistic simply compares the combined effect of all variables. In simplest terms, reject the null hypothesis if your alpha level is greater than your p-value.\n",
    "\\\n",
    "**coef:** the coefficients of the independent variables in the regression equation."
   ]
  },
  {
   "cell_type": "markdown",
   "id": "a623d4c5-d0d4-4f88-9c5c-cbf674354f81",
   "metadata": {},
   "source": [
    "## Our predictions:\n",
    "If we take our significance level (alpha) to be 0.05, we reject the null hypothesis and accept the alternative hypothesis as p<0.05. so, we can say that there is a relationship between head size and brain weight."
   ]
  },
  {
   "cell_type": "code",
   "execution_count": null,
   "id": "1bbd257e-2c42-45c7-90da-7eeabeb51cc0",
   "metadata": {},
   "outputs": [],
   "source": []
  }
 ],
 "metadata": {
  "kernelspec": {
   "display_name": "Python 3",
   "language": "python",
   "name": "python3"
  },
  "language_info": {
   "codemirror_mode": {
    "name": "ipython",
    "version": 3
   },
   "file_extension": ".py",
   "mimetype": "text/x-python",
   "name": "python",
   "nbconvert_exporter": "python",
   "pygments_lexer": "ipython3",
   "version": "3.8.8"
  }
 },
 "nbformat": 4,
 "nbformat_minor": 5
}
